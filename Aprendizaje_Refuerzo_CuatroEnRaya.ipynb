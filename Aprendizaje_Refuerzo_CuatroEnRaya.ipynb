{
 "cells": [
  {
   "cell_type": "markdown",
   "id": "c02ece78",
   "metadata": {},
   "source": [
    "# Aprendizaje por Refuerzo - Cuatro en Raya\n",
    "\n",
    "Este cuaderno implementa un entorno de Cuatro en Raya (6x7) para que un agente aprenda a jugar usando Q-learning u otro algoritmo de aprendizaje por refuerzo.\n",
    "\n"
   ]
  },
  {
   "cell_type": "markdown",
   "id": "5c3d9b3b",
   "metadata": {},
   "source": [
    "🎯 Objetivo del juego\n",
    "Conseguir cuatro fichas del mismo color seguidas (horizontal, vertical o diagonal) antes que el oponente.\n",
    "\n",
    "🧩 Características del juego\n",
    "Jugadores: 2\n",
    "\n",
    "Tablero: 6 filas × 7 columnas\n",
    "\n",
    "Turnos: alternados (por lo general comienza el jugador 1)\n",
    "\n",
    "Fichas: cada jugador tiene fichas de un color (por ejemplo, rojo y amarillo)\n",
    "\n",
    "🧱 Mecánica de juego\n",
    "En su turno, el jugador elige una columna (de la 0 a la 6).\n",
    "\n",
    "La ficha cae hasta la fila más baja disponible de esa columna (como una gravedad simulada).\n",
    "\n",
    "Se actualiza el tablero y se verifica si:\n",
    "\n",
    "Algún jugador ha formado 4 fichas consecutivas en:\n",
    "\n",
    "🔹 Horizontal (→)\n",
    "\n",
    "🔹 Vertical (↓)\n",
    "\n",
    "🔹 Diagonal ascendente (↗)\n",
    "\n",
    "🔹 Diagonal descendente (↘)\n",
    "\n",
    "Si alguien logra una conexión de 4 fichas seguidas, gana la partida.\n",
    "\n",
    "Si el tablero se llena sin ganador, es un empate.\n",
    "\n"
   ]
  },
  {
   "cell_type": "code",
   "execution_count": 3,
   "id": "ca13c2d7",
   "metadata": {},
   "outputs": [],
   "source": [
    "import numpy as np\n",
    "import random\n",
    "import matplotlib.pyplot as plt"
   ]
  },
  {
   "cell_type": "markdown",
   "id": "726be7d5",
   "metadata": {},
   "source": [
    "## Entorno del juego - Connect Four"
   ]
  },
  {
   "cell_type": "code",
   "execution_count": 4,
   "id": "c6021925",
   "metadata": {},
   "outputs": [],
   "source": [
    "import numpy as np\n",
    "\n",
    "class Board():\n",
    "    def __init__(self):\n",
    "        self.state = np.zeros((6, 7))  # 6 filas, 7 columnas\n",
    "\n",
    "    def valid_moves(self):\n",
    "        return [col for col in range(7) if self.state[0, col] == 0]\n",
    "\n",
    "    def update(self, symbol, col):\n",
    "        for row in range(5, -1, -1):  # De abajo hacia arriba\n",
    "            if self.state[row, col] == 0:\n",
    "                self.state[row, col] = symbol\n",
    "                return\n",
    "        raise ValueError(\"Columna llena!\")\n",
    "\n",
    "    def is_game_over(self):\n",
    "        for row in range(6):\n",
    "            for col in range(7):\n",
    "                player = self.state[row, col]\n",
    "                if player == 0:\n",
    "                    continue\n",
    "                # Horizontal\n",
    "                if col <= 3 and all(self.state[row, col+i] == player for i in range(4)):\n",
    "                    return int(player)\n",
    "                # Vertical\n",
    "                if row <= 2 and all(self.state[row+i, col] == player for i in range(4)):\n",
    "                    return int(player)\n",
    "                # Diagonal positiva\n",
    "                if row <= 2 and col <= 3 and all(self.state[row+i, col+i] == player for i in range(4)):\n",
    "                    return int(player)\n",
    "                # Diagonal negativa\n",
    "                if row >= 3 and col <= 3 and all(self.state[row-i, col+i] == player for i in range(4)):\n",
    "                    return int(player)\n",
    "        if len(self.valid_moves()) == 0:\n",
    "            return 0  # Empate\n",
    "        return None  # Sigue el juego\n",
    "\n",
    "    def reset(self):\n",
    "        self.state = np.zeros((6, 7))\n"
   ]
  },
  {
   "cell_type": "code",
   "execution_count": 6,
   "id": "9ebbac65",
   "metadata": {},
   "outputs": [],
   "source": [
    "\n",
    "from tqdm import tqdm\n",
    "\n",
    "class Game():\n",
    "    def __init__(self, player1, player2):\n",
    "        player1.symbol = 1\n",
    "        player2.symbol = -1\n",
    "        self.players = [player1, player2]\n",
    "        self.board = Board()\n",
    "\n",
    "    def selfplay(self, rounds=100):\n",
    "        wins = [0, 0]\n",
    "        for i in tqdm(range(1, rounds + 1)):\n",
    "            self.board.reset()\n",
    "            for player in self.players:\n",
    "                player.reset()\n",
    "            game_over = False\n",
    "            while not game_over:\n",
    "                for player in self.players:\n",
    "                    col = player.move(self.board)  # Solo columna\n",
    "                    self.board.update(player.symbol, col)  # Ficha cae\n",
    "                    for p in self.players:\n",
    "                        p.update(self.board)\n",
    "                    if self.board.is_game_over() is not None:\n",
    "                        game_over = True\n",
    "                        break\n",
    "            self.reward()\n",
    "            for ix, player in enumerate(self.players):\n",
    "                if self.board.is_game_over() == player.symbol:\n",
    "                    wins[ix] += 1\n",
    "        return wins\n",
    "\n",
    "    def reward(self):\n",
    "        winner = self.board.is_game_over()\n",
    "        if winner == 0:  # Empate\n",
    "            for player in self.players:\n",
    "                player.reward(0.5)\n",
    "        else:  # Victoria\n",
    "            for player in self.players:\n",
    "                if winner == player.symbol:\n",
    "                    player.reward(1)\n",
    "                else:\n",
    "                    player.reward(0)\n",
    "\n"
   ]
  },
  {
   "cell_type": "code",
   "execution_count": 7,
   "id": "a60eb3a4",
   "metadata": {},
   "outputs": [],
   "source": [
    "class Agent():\n",
    "    def __init__(self, alpha=0.5, prob_exp=0.5):\n",
    "        self.value_function = {}  # estado -> valor\n",
    "        self.alpha = alpha\n",
    "        self.positions = []  # estados por los que pasó\n",
    "        self.prob_exp = prob_exp  # probabilidad de explorar\n",
    "\n",
    "    def reset(self):\n",
    "        self.positions = []\n",
    "\n",
    "    def move(self, board, explore=True):\n",
    "        valid_moves = board.valid_moves()\n",
    "        # Exploración aleatoria\n",
    "        if explore and np.random.uniform(0, 1) < self.prob_exp:\n",
    "            return np.random.choice(valid_moves)\n",
    "\n",
    "        # Explotación: elige la mejor acción según la tabla\n",
    "        max_value = -np.inf\n",
    "        best_action = None\n",
    "        for col in valid_moves:\n",
    "            temp_board = board.state.copy()\n",
    "            for row in range(5, -1, -1):\n",
    "                if temp_board[row, col] == 0:\n",
    "                    temp_board[row, col] = self.symbol\n",
    "                    break\n",
    "            next_state = str(temp_board.reshape(6 * 7))\n",
    "            value = self.value_function.get(next_state, 0)\n",
    "            if value > max_value:\n",
    "                max_value = value\n",
    "                best_action = col\n",
    "        return best_action\n",
    "\n",
    "    def update(self, board):\n",
    "        self.positions.append(str(board.state.reshape(6 * 7)))\n",
    "\n",
    "    def reward(self, reward):\n",
    "        # Actualización de valores hacia atrás\n",
    "        for p in reversed(self.positions):\n",
    "            if self.value_function.get(p) is None:\n",
    "                self.value_function[p] = 0\n",
    "            self.value_function[p] += self.alpha * (reward - self.value_function[p])\n",
    "            reward = self.value_function[p]\n"
   ]
  },
  {
   "cell_type": "code",
   "execution_count": 8,
   "id": "600e466d",
   "metadata": {},
   "outputs": [
    {
     "name": "stderr",
     "output_type": "stream",
     "text": [
      "100%|██████████| 1000/1000 [00:45<00:00, 22.03it/s]\n"
     ]
    },
    {
     "data": {
      "text/plain": [
       "[503, 492]"
      ]
     },
     "execution_count": 8,
     "metadata": {},
     "output_type": "execute_result"
    }
   ],
   "source": [
    "# Reentrenar ahora que Game y Board están definidos\n",
    "agent1 = Agent(prob_exp=0.5)\n",
    "agent2 = Agent()\n",
    "game = Game(agent1, agent2)\n",
    "resultados = game.selfplay(1000)  # Se puede subir a 300000 si se desea\n",
    "resultados"
   ]
  },
  {
   "cell_type": "code",
   "execution_count": 11,
   "id": "02865fca",
   "metadata": {},
   "outputs": [
    {
     "data": {
      "application/vnd.microsoft.datawrangler.viewer.v0+json": {
       "columns": [
        {
         "name": "index",
         "rawType": "int64",
         "type": "integer"
        },
        {
         "name": "estado",
         "rawType": "object",
         "type": "string"
        },
        {
         "name": "valor",
         "rawType": "float64",
         "type": "float"
        }
       ],
       "ref": "153c7bf7-45d3-4fb6-af2e-4310b214e25c",
       "rows": [
        [
         "0",
         "[ 0.  0.  0.  0.  0.  0.  0.  0.  0.  0.  0.  0.  0.  0.  1.  0.  0.  0.\n  0.  0.  0.  1.  0.  0.  0.  0.  0.  0.  1.  0.  0. -1.  0.  0.  0.  1.\n -1. -1. -1.  0.  0.  1.]",
         "0.9375"
        ],
        [
         "1",
         "[ 0.  0.  0.  0.  0.  0.  0.  0.  0.  0.  0.  0.  0.  0.  0.  0.  0.  0.\n  0.  0.  0.  1.  0.  0.  0.  0.  0.  0.  1.  0.  0. -1.  0.  0.  0.  1.\n -1. -1. -1.  0.  0.  1.]",
         "0.8125"
        ],
        [
         "2",
         "[ 0.  0.  0.  0.  0.  0.  0.  0.  0.  0.  0.  0.  0.  0.  0.  1.  0.  0.\n  0.  0.  0.  0.  1.  0.  0.  0.  0.  0. -1.  1.  0.  0.  0.  0.  0. -1.\n  1.  0. -1.  0.  0.  0.]",
         "0.75"
        ],
        [
         "3",
         "[ 0.  0.  0.  0.  0.  0.  0.  0.  0.  0.  0.  0.  0.  0.  0.  0.  0.  0.\n  0.  0.  0.  0.  0.  0.  0.  0.  0.  0. -1.  0. -1.  0.  0.  0.  0.  1.\n  1.  1.  1.  0. -1.  0.]",
         "0.75"
        ],
        [
         "4",
         "[ 0.  0.  0.  0.  0.  0.  0.  0.  0.  0.  0.  0.  0.  0.  0.  0.  0.  0.\n  0.  0.  0.  0.  0.  0.  0.  0.  0.  0.  0.  0.  0.  0.  0.  0. -1. -1.\n -1.  0.  1.  1.  1.  1.]",
         "0.75"
        ],
        [
         "5",
         "[ 1.  1.  1.  0.  0.  0.  0. -1. -1. -1.  0.  0.  0.  0.  1.  1.  1.  0.\n  1.  0.  0.  1. -1. -1.  0. -1.  0.  1. -1.  1.  1.  1.  1. -1. -1. -1.\n -1. -1.  1.  1. -1. -1.]",
         "0.5"
        ],
        [
         "6",
         "[ 0.  0.  0.  0.  0.  0.  0.  0.  0.  0.  0.  0.  0.  0.  1.  0.  0.  0.\n  0.  0.  0.  1.  0.  0.  0.  0.  0.  0.  1.  0.  0.  0. -1.  0.  0.  1.\n  0.  0. -1. -1.  0.  0.]",
         "0.5"
        ],
        [
         "7",
         "[-1.  1.  1.  0.  0.  0.  0.  1. -1.  1.  0.  0.  0.  0.  1. -1.  1.  0.\n  0.  0.  0.  1. -1.  1. -1.  0.  0.  0. -1.  1. -1. -1.  0. -1.  0.  1.\n  1.  1. -1.  0. -1.  0.]",
         "0.5"
        ],
        [
         "8",
         "[-1. -1.  1.  0.  0.  0.  0.  1. -1. -1.  0.  0.  0.  0. -1.  1.  1.  0.\n  0.  0. -1.  1. -1. -1.  0.  0.  0.  1. -1.  1.  1.  1.  1.  0.  1.  1.\n -1. -1. -1.  1.  1. -1.]",
         "0.5"
        ],
        [
         "9",
         "[-1.  1.  0.  0.  0.  0.  0.  1. -1.  0.  0.  0.  0.  0.  1. -1.  0.  0.\n -1.  0.  0. -1.  1.  0.  0.  1.  0.  0.  1.  1.  1.  0. -1.  0.  1. -1.\n  1. -1.  1. -1.  0. -1.]",
         "0.5"
        ],
        [
         "10",
         "[-1. -1.  0.  0.  0.  0.  0.  1.  1.  0.  0.  0.  0.  0. -1.  1.  0.  0.\n  0.  0.  0.  1. -1.  1. -1.  0.  0.  0. -1.  1.  1.  1. -1.  0.  0.  1.\n -1.  1. -1. -1.  1.  0.]",
         "0.5"
        ],
        [
         "11",
         "[-1. -1.  1. -1.  0.  0.  0. -1. -1.  1.  1.  0.  0.  0.  1.  1. -1. -1.\n  0.  1. -1. -1. -1.  1.  1.  0.  1. -1.  1. -1. -1.  1.  0.  1.  1. -1.\n  1. -1.  1. -1.  1.  1.]",
         "0.5"
        ],
        [
         "12",
         "[ 1. -1.  1.  0.  0.  0.  1. -1.  1. -1.  0.  0. -1. -1.  1. -1.  1.  0.\n  0.  1.  1.  1.  1.  1.  1.  0. -1. -1. -1. -1.  1. -1.  0.  1. -1.  1.\n  1. -1. -1. -1.  1. -1.]",
         "0.5"
        ],
        [
         "13",
         "[-1.  1.  0.  0.  0.  0.  0.  1.  1.  1.  0.  0.  0.  0. -1. -1.  1.  0.\n  0.  0.  0.  1. -1.  1. -1.  0.  0. -1. -1.  1.  1.  1. -1. -1.  1.  1.\n  1. -1.  1. -1. -1. -1.]",
         "0.5"
        ],
        [
         "14",
         "[-1. -1.  0.  0.  0.  0.  0.  1.  1.  0.  0.  0.  0.  0. -1. -1.  0.  0.\n  0.  0.  0.  1.  1.  1.  1.  0.  1.  0. -1.  1. -1.  1.  1. -1.  0.  1.\n -1.  1. -1. -1. -1.  0.]",
         "0.5"
        ],
        [
         "15",
         "[-1.  0.  0.  0.  0.  0.  0.  1.  1.  0.  0.  0.  0.  0. -1.  1.  0.  0.\n  0.  0.  0.  1.  1.  0. -1.  0.  0.  0.  1.  1.  0.  1.  0.  0. -1.  1.\n -1.  0. -1.  0. -1. -1.]",
         "0.5"
        ],
        [
         "16",
         "[-1. -1.  0.  0.  0.  0.  0. -1.  1.  0.  0.  0.  0.  0.  1. -1.  0.  0.\n  0.  0.  0. -1.  1.  0.  0.  0.  0.  1. -1.  1.  1. -1.  0.  1. -1.  1.\n -1.  1.  1.  0.  1. -1.]",
         "0.5"
        ],
        [
         "17",
         "[ 1. -1. -1.  0.  0.  0.  0.  1. -1.  1.  0.  0.  0.  0. -1.  1. -1.  0.\n  0. -1.  0. -1. -1.  1.  0.  0.  1.  0.  1.  1.  1.  1.  0. -1.  0. -1.\n -1.  1.  1.  0.  1. -1.]",
         "0.5"
        ],
        [
         "18",
         "[-1.  0.  0.  0.  0.  0.  0.  1.  0.  0.  0.  0.  0.  0. -1. -1.  0.  0.\n  0.  0.  0.  1.  1.  0.  0.  0. -1.  0.  1. -1.  1.  0.  0. -1.  0.  1.\n  1.  1.  1. -1. -1.  0.]",
         "0.5"
        ],
        [
         "19",
         "[ 1. -1.  1.  0.  0.  0.  0.  1.  1. -1.  0.  0.  0.  0.  1. -1.  1.  0.\n  0.  0.  0. -1.  1. -1.  1.  0. -1.  0.  1.  1. -1. -1.  0. -1.  0.  1.\n -1.  1. -1.  0. -1.  1.]",
         "0.5"
        ],
        [
         "20",
         "[-1.  1.  1.  0.  0.  0.  0.  1.  1. -1.  0.  0.  0.  0. -1. -1.  1. -1.\n  0.  1.  0.  1. -1. -1. -1.  1. -1.  0. -1.  1.  1.  1. -1.  1. -1.  1.\n -1.  1.  1. -1.  1. -1.]",
         "0.5"
        ],
        [
         "21",
         "[-1.  0.  0.  0.  0.  0.  0.  1.  0.  0.  0.  0.  0.  0.  1.  0.  0.  0.\n  0.  0.  0. -1.  0.  0.  0.  0.  0.  0. -1.  0. -1.  0.  0.  0.  0. -1.\n  1.  1.  1.  1. -1.  1.]",
         "0.5"
        ],
        [
         "22",
         "[ 1. -1.  0.  0.  0.  0.  0. -1. -1.  0.  1.  0.  0.  0.  1.  1.  0.  1.\n  0.  0.  0. -1.  1.  0.  1.  0. -1.  0.  1. -1.  0.  1.  0. -1. -1.  1.\n  1.  0. -1. -1. -1.  1.]",
         "0.5"
        ],
        [
         "23",
         "[-1.  0.  0.  0.  0.  0.  0. -1.  0.  0.  0.  0.  0.  0.  1.  0.  0.  0.\n  1.  0.  0. -1. -1.  1.  0.  1.  0.  0.  1. -1. -1.  0.  1.  0.  0. -1.\n  1. -1.  1.  1.  0.  0.]",
         "0.5"
        ],
        [
         "24",
         "[ 1.  1.  0.  0.  0.  0.  0.  1.  1.  0. -1.  0.  0.  0. -1. -1.  0.  1.\n  0.  0.  0.  1.  1.  1.  1.  0.  0.  0. -1. -1.  1. -1. -1. -1.  0.  1.\n -1.  1. -1.  1. -1. -1.]",
         "0.5"
        ],
        [
         "25",
         "[ 1.  1. -1.  1.  0.  0.  0. -1. -1.  1. -1.  0.  0.  0. -1.  1. -1.  1.\n  0.  0.  0.  1.  1. -1. -1.  0.  0.  0. -1.  1.  1. -1.  0.  0. -1.  1.\n -1.  1.  1.  1.  0. -1.]",
         "0.5"
        ],
        [
         "26",
         "[ 1. -1.  0.  0.  0.  0.  0.  1.  1.  0.  0.  0.  0.  0.  1. -1.  0.  0.\n  0.  0.  0. -1. -1.  0.  0.  0.  0.  1.  1.  1.  1.  1.  0. -1. -1.  1.\n -1. -1. -1.  0. -1.  1.]",
         "0.5"
        ],
        [
         "27",
         "[-1. -1.  0.  0.  0.  0.  0.  1. -1.  0.  0.  0.  0.  0. -1.  1.  0.  0.\n  1.  0.  0.  1.  1. -1.  1. -1.  0.  1. -1. -1.  1. -1.  1.  0.  1.  1.\n  1. -1. -1.  1.  0. -1.]",
         "0.5"
        ],
        [
         "28",
         "[-1.  1.  0.  0.  0.  0.  0.  1.  1.  0. -1.  0.  0.  0.  1.  1.  0. -1.\n  0.  0.  0. -1.  1.  0.  1.  0.  0. -1.  1. -1.  0. -1.  1.  0.  1.  1.\n -1.  1. -1. -1.  0. -1.]",
         "0.5"
        ],
        [
         "29",
         "[ 1.  1. -1.  0.  0.  0.  0. -1. -1.  1.  0.  0.  0.  0.  1.  1. -1.  1.\n  0.  0.  0.  1. -1.  1. -1.  1. -1. -1. -1.  1. -1.  1.  1. -1. -1.  1.\n  1.  1. -1. -1.  1. -1.]",
         "0.5"
        ],
        [
         "30",
         "[ 1. -1. -1. -1.  1.  0.  0. -1. -1.  1.  1. -1.  0.  0.  1.  1. -1.  1.\n  1.  0.  0. -1.  1. -1. -1. -1.  1.  0.  1.  1. -1. -1.  1. -1.  1. -1.\n -1.  1. -1.  1.  1.  1.]",
         "0.5"
        ],
        [
         "31",
         "[ 1.  0.  0.  0.  0.  0.  0.  1.  0.  0.  0.  0.  0.  0.  1.  1.  1.  0.\n  0. -1.  0. -1. -1.  1.  0.  0.  1.  0. -1.  1. -1.  1.  0. -1. -1.  1.\n -1.  1. -1. -1.  1. -1.]",
         "0.5"
        ],
        [
         "32",
         "[ 1.  1. -1.  1.  0.  0.  0. -1. -1. -1.  1.  0.  0.  0. -1.  1.  1.  1.\n  0.  0.  0.  1. -1. -1.  1.  0.  0.  0. -1.  1.  1. -1.  0. -1.  0.  1.\n  1. -1.  1.  0. -1. -1.]",
         "0.5"
        ],
        [
         "33",
         "[ 1.  1. -1.  0.  0.  0.  0. -1.  1.  1.  0.  0.  0.  0. -1. -1. -1.  0.\n  0.  0.  0.  1.  1.  1.  1.  0.  0.  0. -1. -1. -1.  1.  0. -1.  0. -1.\n  1.  1.  1. -1.  1. -1.]",
         "0.5"
        ],
        [
         "34",
         "[-1.  0.  0.  0.  0.  0.  0. -1.  0.  0.  0.  0.  0.  0. -1.  1.  0.  0.\n  0.  0.  0.  1.  1.  0.  0.  0.  0. -1. -1.  1. -1.  0.  1.  0.  1. -1.\n  1.  1.  0.  1.  0. -1.]",
         "0.5"
        ],
        [
         "35",
         "[-1. -1.  1.  0.  0.  0.  0.  1.  1.  1.  1.  0.  0.  0.  1. -1.  1.  1.\n -1.  0.  0. -1.  1. -1.  1.  1. -1.  0.  1. -1.  1. -1. -1. -1.  0. -1.\n  1. -1. -1.  1. -1.  1.]",
         "0.5"
        ],
        [
         "36",
         "[ 1. -1.  0.  0.  0.  0.  0.  1. -1.  0.  0.  0.  0.  0.  1.  1.  0.  0.\n  0.  0.  0. -1. -1.  1.  0.  0.  0. -1. -1. -1.  1.  1.  1.  0. -1.  1.\n  1.  1. -1. -1. -1.  1.]",
         "0.5"
        ],
        [
         "37",
         "[ 1.  1.  1.  0.  0.  0.  0.  1. -1. -1.  0.  0.  0.  0.  1.  1.  1.  1.\n  0. -1.  0. -1. -1. -1.  1.  0.  1.  0. -1. -1.  1. -1.  0. -1.  0.  1.\n  1.  1. -1. -1. -1.  0.]",
         "0.5"
        ],
        [
         "38",
         "[-1. -1.  0.  0.  0.  0.  0. -1.  1.  0.  0.  0.  0.  0.  1. -1.  1.  1.\n  0. -1.  0.  1.  1.  1. -1.  0. -1.  0. -1.  1. -1.  1.  0.  1. -1.  1.\n  1. -1.  1.  1. -1. -1.]",
         "0.5"
        ],
        [
         "39",
         "[ 1. -1.  0.  0.  0.  0.  0. -1. -1.  0.  0.  0.  0.  0.  1.  1. -1.  0.\n  0.  0.  0.  1. -1.  1.  0. -1.  0.  0. -1.  1. -1.  1.  1.  1.  1.  1.\n -1.  1. -1. -1. -1.  1.]",
         "0.5"
        ],
        [
         "40",
         "[ 1. -1.  1.  0.  0.  0.  0.  1.  1. -1.  0.  0.  0.  0. -1. -1. -1.  0.\n  0. -1.  0.  1. -1. -1.  0.  0.  1.  0. -1.  1.  1.  1.  1.  1.  0.  1.\n -1. -1. -1.  1. -1.  1.]",
         "0.5"
        ],
        [
         "41",
         "[-1. -1. -1.  0.  0.  0.  0. -1.  1.  1.  0.  0.  0.  0.  1. -1. -1.  0.\n -1.  0.  0. -1.  1.  1.  1.  1.  0.  0.  1.  1.  1. -1. -1.  1. -1.  1.\n -1. -1. -1.  1.  1.  1.]",
         "0.5"
        ],
        [
         "42",
         "[-1.  0.  0.  0.  0.  0.  0.  1. -1.  0.  0.  0.  0.  0. -1. -1.  0.  0.\n  0.  0.  0. -1. -1.  0.  1.  0.  0.  0.  1.  1.  1.  1.  1.  1.  0. -1.\n  1.  1. -1.  1. -1. -1.]",
         "0.5"
        ],
        [
         "43",
         "[ 1.  1.  0.  0.  0.  0.  0. -1. -1.  0.  0.  0.  0.  0.  1.  1.  0.  1.\n  0.  0. -1. -1. -1.  0. -1.  0.  0.  1.  1.  1.  1.  1.  0.  0. -1.  1.\n -1. -1. -1.  0. -1.  1.]",
         "0.5"
        ],
        [
         "44",
         "[-1. -1. -1.  0.  0.  0.  0.  1.  1. -1.  0.  0.  0.  0.  1.  1. -1.  0.\n  0.  0.  1.  1. -1.  1.  0. -1. -1.  1. -1. -1. -1.  0.  1.  1.  1.  1.\n -1.  1.  1. -1. -1.  1.]",
         "0.5"
        ],
        [
         "45",
         "[ 1. -1.  1.  0.  0.  0.  0. -1.  1. -1.  0.  0.  0.  0.  1. -1. -1.  1.\n  1.  0.  0. -1. -1.  1. -1. -1.  1.  0. -1.  1.  1. -1. -1. -1.  1.  1.\n  1. -1. -1.  1.  1.  1.]",
         "0.5"
        ],
        [
         "46",
         "[-1. -1. -1.  1.  0.  0.  0. -1.  1.  1. -1.  0.  0.  0.  1. -1. -1.  1.\n  1.  0.  0.  1.  1. -1.  1. -1. -1.  0. -1. -1.  1.  1.  1. -1.  1.  1.\n  1. -1. -1.  1. -1.  1.]",
         "0.5"
        ],
        [
         "47",
         "[-1.  0.  0.  0.  0.  0.  0.  1.  0.  0.  0.  0.  0.  0. -1.  1.  0.  1.\n  0.  0.  0.  1. -1.  0. -1.  1.  1.  0. -1.  1.  0. -1. -1.  1.  0.  1.\n  1.  0. -1. -1. -1.  1.]",
         "0.5"
        ],
        [
         "48",
         "[ 0.  0.  0.  0.  0.  0.  0.  0.  0.  0.  0.  0.  0.  0.  1.  0.  0.  0.\n  0.  0.  0.  1.  0.  0.  0.  0. -1.  0.  1.  0.  0.  0.  0. -1.  0.  1.\n  0.  0. -1. -1.  1.  0.]",
         "0.5"
        ],
        [
         "49",
         "[ 1.  0.  0.  0.  0.  0.  0.  1.  0.  0.  1.  0.  0.  0. -1.  0.  0.  1.\n  0.  0.  0.  1. -1.  0. -1.  0.  0.  0. -1. -1.  0.  1.  0. -1.  0.  1.\n  1.  1.  1. -1. -1. -1.]",
         "0.5"
        ]
       ],
       "shape": {
        "columns": 2,
        "rows": 17993
       }
      },
      "text/html": [
       "<div>\n",
       "<style scoped>\n",
       "    .dataframe tbody tr th:only-of-type {\n",
       "        vertical-align: middle;\n",
       "    }\n",
       "\n",
       "    .dataframe tbody tr th {\n",
       "        vertical-align: top;\n",
       "    }\n",
       "\n",
       "    .dataframe thead th {\n",
       "        text-align: right;\n",
       "    }\n",
       "</style>\n",
       "<table border=\"1\" class=\"dataframe\">\n",
       "  <thead>\n",
       "    <tr style=\"text-align: right;\">\n",
       "      <th></th>\n",
       "      <th>estado</th>\n",
       "      <th>valor</th>\n",
       "    </tr>\n",
       "  </thead>\n",
       "  <tbody>\n",
       "    <tr>\n",
       "      <th>0</th>\n",
       "      <td>[ 0.  0.  0.  0.  0.  0.  0.  0.  0.  0.  0.  ...</td>\n",
       "      <td>0.9375</td>\n",
       "    </tr>\n",
       "    <tr>\n",
       "      <th>1</th>\n",
       "      <td>[ 0.  0.  0.  0.  0.  0.  0.  0.  0.  0.  0.  ...</td>\n",
       "      <td>0.8125</td>\n",
       "    </tr>\n",
       "    <tr>\n",
       "      <th>2</th>\n",
       "      <td>[ 0.  0.  0.  0.  0.  0.  0.  0.  0.  0.  0.  ...</td>\n",
       "      <td>0.7500</td>\n",
       "    </tr>\n",
       "    <tr>\n",
       "      <th>3</th>\n",
       "      <td>[ 0.  0.  0.  0.  0.  0.  0.  0.  0.  0.  0.  ...</td>\n",
       "      <td>0.7500</td>\n",
       "    </tr>\n",
       "    <tr>\n",
       "      <th>4</th>\n",
       "      <td>[ 0.  0.  0.  0.  0.  0.  0.  0.  0.  0.  0.  ...</td>\n",
       "      <td>0.7500</td>\n",
       "    </tr>\n",
       "    <tr>\n",
       "      <th>...</th>\n",
       "      <td>...</td>\n",
       "      <td>...</td>\n",
       "    </tr>\n",
       "    <tr>\n",
       "      <th>17988</th>\n",
       "      <td>[ 0.  0.  0.  0.  0.  0.  0.  0.  0.  0.  0.  ...</td>\n",
       "      <td>0.0000</td>\n",
       "    </tr>\n",
       "    <tr>\n",
       "      <th>17989</th>\n",
       "      <td>[ 0.  0.  0.  0.  0.  0.  0.  0.  0.  0.  0.  ...</td>\n",
       "      <td>0.0000</td>\n",
       "    </tr>\n",
       "    <tr>\n",
       "      <th>17990</th>\n",
       "      <td>[ 0.  0.  0.  0.  0.  0.  0.  0.  0.  0.  0.  ...</td>\n",
       "      <td>0.0000</td>\n",
       "    </tr>\n",
       "    <tr>\n",
       "      <th>17991</th>\n",
       "      <td>[ 0.  0.  0.  0.  0.  0.  0.  0.  0.  0.  0.  ...</td>\n",
       "      <td>0.0000</td>\n",
       "    </tr>\n",
       "    <tr>\n",
       "      <th>17992</th>\n",
       "      <td>[ 0.  0.  0.  0.  0.  0.  0.  0.  0.  0.  0.  ...</td>\n",
       "      <td>0.0000</td>\n",
       "    </tr>\n",
       "  </tbody>\n",
       "</table>\n",
       "<p>17993 rows × 2 columns</p>\n",
       "</div>"
      ],
      "text/plain": [
       "                                                  estado   valor\n",
       "0      [ 0.  0.  0.  0.  0.  0.  0.  0.  0.  0.  0.  ...  0.9375\n",
       "1      [ 0.  0.  0.  0.  0.  0.  0.  0.  0.  0.  0.  ...  0.8125\n",
       "2      [ 0.  0.  0.  0.  0.  0.  0.  0.  0.  0.  0.  ...  0.7500\n",
       "3      [ 0.  0.  0.  0.  0.  0.  0.  0.  0.  0.  0.  ...  0.7500\n",
       "4      [ 0.  0.  0.  0.  0.  0.  0.  0.  0.  0.  0.  ...  0.7500\n",
       "...                                                  ...     ...\n",
       "17988  [ 0.  0.  0.  0.  0.  0.  0.  0.  0.  0.  0.  ...  0.0000\n",
       "17989  [ 0.  0.  0.  0.  0.  0.  0.  0.  0.  0.  0.  ...  0.0000\n",
       "17990  [ 0.  0.  0.  0.  0.  0.  0.  0.  0.  0.  0.  ...  0.0000\n",
       "17991  [ 0.  0.  0.  0.  0.  0.  0.  0.  0.  0.  0.  ...  0.0000\n",
       "17992  [ 0.  0.  0.  0.  0.  0.  0.  0.  0.  0.  0.  ...  0.0000\n",
       "\n",
       "[17993 rows x 2 columns]"
      ]
     },
     "execution_count": 11,
     "metadata": {},
     "output_type": "execute_result"
    }
   ],
   "source": [
    "import pandas as pd\n",
    "\n",
    "funcion_de_valor = sorted(agent1.value_function.items(), key=lambda kv: kv[1], reverse=True)\n",
    "tabla = pd.DataFrame({'estado': [x[0] for x in funcion_de_valor], 'valor': [x[1] for x in funcion_de_valor]})\n",
    "\n",
    "tabla"
   ]
  },
  {
   "cell_type": "code",
   "execution_count": 12,
   "id": "b71b69ea",
   "metadata": {},
   "outputs": [],
   "source": [
    "import pickle\n",
    "\n",
    "with open('agente.pickle', 'wb') as handle:\n",
    "    pickle.dump(agent1.value_function, handle, protocol=pickle.HIGHEST_PROTOCOL)"
   ]
  }
 ],
 "metadata": {
  "kernelspec": {
   "display_name": "IA",
   "language": "python",
   "name": "python3"
  },
  "language_info": {
   "codemirror_mode": {
    "name": "ipython",
    "version": 3
   },
   "file_extension": ".py",
   "mimetype": "text/x-python",
   "name": "python",
   "nbconvert_exporter": "python",
   "pygments_lexer": "ipython3",
   "version": "3.13.2"
  }
 },
 "nbformat": 4,
 "nbformat_minor": 5
}
